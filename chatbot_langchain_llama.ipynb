{
 "cells": [
  {
   "cell_type": "code",
   "execution_count": null,
   "id": "6f876270-38a0-4234-ad71-d2b17bdf08a1",
   "metadata": {},
   "outputs": [
    {
     "name": "stdout",
     "output_type": "stream",
     "text": [
      "Chatbot initialized, ready to chat...\n"
     ]
    },
    {
     "name": "stdin",
     "output_type": "stream",
     "text": [
      ">  hi\n"
     ]
    },
    {
     "name": "stdout",
     "output_type": "stream",
     "text": [
      "Hey there! How can I help you today? \n",
      "\n"
     ]
    },
    {
     "name": "stdin",
     "output_type": "stream",
     "text": [
      ">  how are you today?\n"
     ]
    },
    {
     "name": "stdout",
     "output_type": "stream",
     "text": [
      "I'm doing well, thank you for asking! How about you? It's always nice to connect with someone new. Is there anything in particular you'd like to chat about or ask? \n",
      "\n"
     ]
    },
    {
     "name": "stdin",
     "output_type": "stream",
     "text": [
      ">  how can i be the best programmer in the world?\n"
     ]
    },
    {
     "name": "stdout",
     "output_type": "stream",
     "text": [
      "Being the best programmer in the world is subjective and can mean different things to different people. However, here are some general tips that can help you improve your programming skills and potentially become one of the best programmers in the world:\n",
      "\n",
      "1. Learn new programming languages: Keep learning new programming languages and technologies. This will not only improve your skillset but also open up new job opportunities for you.\n",
      "2. Practice, practice, practice: Programming is a skill that requires constant practice to become proficient. Try to work on small projects or contribute to open-source projects to hone your skills.\n",
      "3. Stay up to date with industry trends: Keep up to date with the latest programming trends and technologies. Follow industry leaders, attend conferences and participate in online forums to stay informed.\n",
      "4. Focus on problem-solving skills: Programming is all about solving problems. Focus on developing your problem-solving skills by working on different types of projects that challenge you.\n",
      "5. Learn from others: Learn from other programmers by reading their code, understanding how they approach problems and incorporating their techniques into your own work.\n",
      "6. Be proactive \n",
      "\n"
     ]
    },
    {
     "name": "stdin",
     "output_type": "stream",
     "text": [
      ">  ok, now give me some advice how can i be healthy?\n"
     ]
    }
   ],
   "source": [
    "from langchain_community.llms import LlamaCpp\n",
    "from langchain.prompts import PromptTemplate\n",
    "from langchain.chains import LLMChain\n",
    "# Load the LlamaCpp language model, adjust GPU usage based on your hardware\n",
    "llm = LlamaCpp(\n",
    "    model_path=\"models/llama-2-7b-chat.Q2_K.gguf\",\n",
    "    \n",
    "    #n_gpu_layers=40,\n",
    "    n_batch=512,  # Batch size for model processing\n",
    "    verbose=False,  # Enable detailed logging for debugging\n",
    ")\n",
    "\n",
    "# Define the prompt template with a placeholder for the question\n",
    "template = \"\"\"\n",
    "Question: {question}\n",
    "\n",
    "Answer:\n",
    "\"\"\"\n",
    "prompt = PromptTemplate(template=template, input_variables=[\"question\"])\n",
    "\n",
    "# Create an LLMChain to manage interactions with the prompt and model\n",
    "llm_chain = LLMChain(prompt=prompt, llm=llm)\n",
    "\n",
    "print(\"Chatbot initialized, ready to chat...\")\n",
    "while True:\n",
    "    question = input(\"> \")\n",
    "    if question.lower() == \"quit\":\n",
    "        print(\"Chat ended.\")\n",
    "        break\n",
    "    answer = llm_chain.run(question)\n",
    "    print(answer, '\\n')"
   ]
  },
  {
   "cell_type": "code",
   "execution_count": null,
   "id": "84ad7355-0e8f-43f9-b91e-917165509f36",
   "metadata": {},
   "outputs": [],
   "source": []
  }
 ],
 "metadata": {
  "kernelspec": {
   "display_name": "sara01_kernel",
   "language": "python",
   "name": "sara01"
  },
  "language_info": {
   "codemirror_mode": {
    "name": "ipython",
    "version": 3
   },
   "file_extension": ".py",
   "mimetype": "text/x-python",
   "name": "python",
   "nbconvert_exporter": "python",
   "pygments_lexer": "ipython3",
   "version": "3.9.19"
  }
 },
 "nbformat": 4,
 "nbformat_minor": 5
}
